{
 "cells": [
  {
   "cell_type": "markdown",
   "id": "bcee9e5b-4097-4124-b03f-601a7a0825ff",
   "metadata": {},
   "source": [
    "# 7. Finetuning of the models"
   ]
  },
  {
   "cell_type": "markdown",
   "id": "68e849f1-e589-48ef-807c-698f35c34ebd",
   "metadata": {},
   "source": [
    "---\n",
    "**To be able to execute this notebook, please download your own local version of the data from https://www.kaggle.com/martinellis/nhl-game-data and store it into the folder \"data/nhl/nhl_stats/\"**\n",
    "\n",
    "\n",
    "\n",
    "**In addition, please download your own local version of the data from https://www.kaggle.com/camnugent/predict-nhl-player-salaries and store it into the folder \"data/nhl/nhl_salaries/\"**\n",
    "\n",
    "---"
   ]
  },
  {
   "cell_type": "code",
   "execution_count": 1,
   "id": "d668a5e8-c6b9-4ae7-a5b9-8229402919e0",
   "metadata": {},
   "outputs": [],
   "source": [
    "import pandas as pd\n",
    "import numpy as np\n",
    "import seaborn as sns\n",
    "import numpy as np\n",
    "import math\n",
    "import time\n",
    "\n",
    "from numpy import sqrt\n",
    "from numpy import argmax\n",
    "\n",
    "from IPython.display import Image\n",
    "\n",
    "from sklearn.model_selection import train_test_split\n",
    "from sklearn.model_selection import GridSearchCV\n",
    "from sklearn.linear_model import LogisticRegression\n",
    "from sklearn.neighbors import KNeighborsClassifier\n",
    "\n",
    "from sklearn.metrics import confusion_matrix\n",
    "from sklearn.metrics import f1_score\n",
    "from sklearn.metrics import roc_curve\n",
    "from sklearn.metrics import accuracy_score\n",
    "from sklearn.metrics import recall_score\n",
    "from sklearn.metrics import precision_score\n",
    "from sklearn.metrics import roc_auc_score\n",
    "\n",
    "\n",
    "from lightgbm import LGBMClassifier\n",
    "\n",
    "from matplotlib import pyplot as plt\n",
    "from matplotlib import patches\n",
    "\n",
    "from utils import create_dummy_df\n",
    "from utils import plot_correlation_matrix\n",
    "from utils import balance_binary_target\n",
    "\n",
    "from models import run_logistic_regression\n",
    "from models import run_lightgbm_classifier\n",
    "from models import run_kneighbors_classifier\n",
    "\n",
    "from metrics import save_metrics\n",
    "from metrics import plot_metrics\n",
    "from metrics import init_metrics_file\n",
    "from metrics import evaluate_model\n",
    "from metrics import evaluate_model2\n",
    "\n",
    "from sklearn.pipeline import Pipeline\n",
    "from sklearn.preprocessing import StandardScaler\n",
    "from sklearn.preprocessing import MinMaxScaler\n",
    "\n",
    "sns.set()"
   ]
  },
  {
   "cell_type": "markdown",
   "id": "a2e2fa39-e1fe-4376-90e3-4d29931a996d",
   "metadata": {},
   "source": [
    "---\n",
    "## Preparing data used in the previous sections"
   ]
  },
  {
   "cell_type": "code",
   "execution_count": 2,
   "id": "961e82da-4a4f-4d87-be90-57a39135dd7a",
   "metadata": {
    "tags": []
   },
   "outputs": [],
   "source": [
    "# read data\n",
    "df_game_plays = pd.read_csv('data/nhl/nhl_stats/game_plays.csv')\n",
    "df_game_plays.drop_duplicates(inplace=True)\n",
    "\n",
    "# drop NaNs, select relevant columns only\n",
    "df = df_game_plays[['play_id', 'event', 'secondaryType', 'st_x', 'st_y', 'period', 'periodTime']][(df_game_plays.event=='Goal') | (df_game_plays.event=='Shot')]\n",
    "df.dropna(inplace=True)\n",
    "df.secondaryType = df.secondaryType.str.replace(\" \", \"\")\n",
    "df.secondaryType = df.secondaryType.str.replace(\"-\", \"\")\n",
    "\n",
    "# Prepare target. Convert categorical event values 'Goal' to a numerical 0/1 value indicating goal\n",
    "df['goal'] = np.where(df.event=='Goal', 1, 0)\n",
    "df.drop(columns='event', inplace=True)\n",
    "\n",
    "# Convert categorical 'secondaryType' column to multiple numerical columns\n",
    "cat_cols = ['secondaryType']\n",
    "df = create_dummy_df(df=df, cat_cols=cat_cols, dummy_na=True)\n",
    "df.drop(columns=['secondaryType_nan'], inplace=True)\n",
    "\n",
    "#balance targets\n",
    "df = balance_binary_target(df, target='goal')\n"
   ]
  },
  {
   "cell_type": "code",
   "execution_count": 3,
   "id": "166efed4-2d64-422e-a3d5-b5e52d2ea9d4",
   "metadata": {},
   "outputs": [],
   "source": [
    "# adding feature distance\n",
    "def dist(df): \n",
    "    middle_goal_x = 100 \n",
    "    middle_goal_y = 0\n",
    "    return math.hypot(middle_goal_x - df.st_x, middle_goal_y - df.st_y)\n",
    "\n",
    "df_data_dist = df.copy()\n",
    "df_data_dist['distance'] = df_data_dist.apply(dist, axis=1)\n",
    "\n",
    "# cut outliers first\n",
    "df_data_dist = df_data_dist[df_data_dist.distance<50]"
   ]
  },
  {
   "cell_type": "code",
   "execution_count": 4,
   "id": "3464d289-ba0f-4b16-9001-ec7d6b0660d4",
   "metadata": {},
   "outputs": [],
   "source": [
    "# adding feature angle\n",
    "def angle(df):     \n",
    "    middle_goal_x = 100 \n",
    "    return math.fabs(math.degrees(math.atan2(df.st_x - middle_goal_x, df.st_y)) + 90)\n",
    "\n",
    "df_data_dist_angle = df_data_dist.copy()\n",
    "df_data_dist_angle['angle'] = df_data_dist_angle.apply(angle, axis=1)\n",
    "\n",
    "# cutting outliers\n",
    "df_data_dist_angle= df_data_dist_angle[df_data_dist_angle.angle<40]"
   ]
  },
  {
   "cell_type": "markdown",
   "id": "440201bf-754e-4b48-90a2-2223e68c1f4f",
   "metadata": {},
   "source": [
    "---\n",
    "## Adding players to game events"
   ]
  },
  {
   "cell_type": "code",
   "execution_count": 5,
   "id": "c5a4e267-e8ac-4dfe-8c86-56d4e6f0cf49",
   "metadata": {},
   "outputs": [],
   "source": [
    "df_player = pd.read_csv('data/nhl/nhl_stats/game_plays_players.csv')\n",
    "df_player.drop_duplicates(inplace=True)"
   ]
  },
  {
   "cell_type": "markdown",
   "id": "da8eb3ef-d317-4c36-96cf-4a9473d0d7d2",
   "metadata": {},
   "source": [
    "---\n",
    "Read and filter the data frame twice, once for skate, once for goalie:"
   ]
  },
  {
   "cell_type": "code",
   "execution_count": 6,
   "id": "42cf7d2a-520f-4948-9a8b-3e3971c51871",
   "metadata": {},
   "outputs": [],
   "source": [
    "df_skater = df_player[df_player.playerType.isin(['Shooter', 'Scorer'])].copy()\n",
    "df_skater.rename(columns={'player_id':'skater_id'}, inplace=True)\n",
    "df_skater.drop(columns=['game_id', 'playerType'], inplace=True)\n",
    "\n",
    "df_goalie = df_player[df_player.playerType.isin(['Goalie'])].copy()\n",
    "df_goalie.rename(columns={'player_id':'goalie_id'}, inplace=True)\n",
    "df_goalie.drop(columns=['game_id', 'playerType'], inplace=True)"
   ]
  },
  {
   "cell_type": "markdown",
   "id": "00aaea43-5058-4825-8845-9da6a28b79c2",
   "metadata": {},
   "source": [
    "---\n",
    "Merge both player types with game plays:"
   ]
  },
  {
   "cell_type": "code",
   "execution_count": 7,
   "id": "1a04caba-b500-4079-8412-f080772570d4",
   "metadata": {},
   "outputs": [],
   "source": [
    "# created new table and merge skaters and golies to the game events\n",
    "df_data_player = df_data_dist_angle.copy()\n",
    "\n",
    "df_data_player = df_data_player.merge(df_skater, how='left', on='play_id')\n",
    "df_data_player = df_data_player.merge(df_goalie, how='left', on='play_id')"
   ]
  },
  {
   "cell_type": "code",
   "execution_count": 8,
   "id": "b4911d04-1f5e-4dee-8960-19ee3fd6f1d5",
   "metadata": {},
   "outputs": [],
   "source": [
    "# Apparently not all shots were on goal. No golie then. Keeping this rows anyway but replacing goalie by Zero\n",
    "df_data_player.goalie_id.fillna(0, inplace=True)"
   ]
  },
  {
   "cell_type": "markdown",
   "id": "719a413f-9a1c-491c-ade7-54b3e10a8fda",
   "metadata": {},
   "source": [
    "## Adding player statistics"
   ]
  },
  {
   "cell_type": "code",
   "execution_count": 9,
   "id": "50e744ef-b4e6-4e72-be2a-5cd41fd70a4d",
   "metadata": {},
   "outputs": [],
   "source": [
    "df_player_info = pd.read_csv('data/nhl/nhl_stats/player_info.csv')"
   ]
  },
  {
   "cell_type": "markdown",
   "id": "40398a46-569a-4927-bdd5-ef2588aaa48b",
   "metadata": {},
   "source": [
    "---\n",
    "Calculating overall savePercentage for each goalie:"
   ]
  },
  {
   "cell_type": "code",
   "execution_count": 10,
   "id": "069ab8cb-ed25-451b-ba9a-9e936796b56f",
   "metadata": {},
   "outputs": [],
   "source": [
    "df_goalie = pd.read_csv('data/nhl/nhl_stats/game_goalie_stats.csv')\n",
    "df_goalie = df_goalie.groupby('player_id').agg({'savePercentage':'mean'}).reset_index()\n",
    "df_goalie.rename(columns={'player_id':'goalie_id'}, inplace=True)"
   ]
  },
  {
   "cell_type": "markdown",
   "id": "e867583f-08b6-4a76-938b-32b18f7f7ff6",
   "metadata": {},
   "source": [
    "---\n",
    "Calculating overall statistics for each skater:"
   ]
  },
  {
   "cell_type": "code",
   "execution_count": 11,
   "id": "e3e6cbd6-32b7-4af4-876d-bca8b942316b",
   "metadata": {},
   "outputs": [],
   "source": [
    "df_skater = pd.read_csv('data/nhl/nhl_stats/game_skater_stats.csv')\n",
    "df_skater = df_skater.groupby('player_id').agg({'goals':'sum', 'shots':'sum', 'assists':'sum', 'timeOnIce':'sum'}).reset_index()\n",
    "df_skater.rename(columns={'player_id':'skater_id'}, inplace=True)"
   ]
  },
  {
   "cell_type": "markdown",
   "id": "56e19fe6-f82a-4445-8016-93cc8c103c66",
   "metadata": {},
   "source": [
    "---\n",
    "Merging it together in the training dataset"
   ]
  },
  {
   "cell_type": "code",
   "execution_count": 12,
   "id": "4a6f0936-9cee-480c-b9dd-8cf1c0361c54",
   "metadata": {},
   "outputs": [],
   "source": [
    "df_data_player = df_data_player.merge(df_skater, how='left', on='skater_id')\n",
    "df_data_player = df_data_player.merge(df_goalie, how='left', on='goalie_id')"
   ]
  },
  {
   "cell_type": "code",
   "execution_count": 13,
   "id": "194d90d8-f1fe-42d8-9cc3-550520376753",
   "metadata": {},
   "outputs": [],
   "source": [
    "df_data_player.savePercentage.fillna(df_data_player.savePercentage.median(), inplace=True)"
   ]
  },
  {
   "cell_type": "markdown",
   "id": "2fbf10cb-25fc-4673-8f75-44506fee06e5",
   "metadata": {},
   "source": [
    "## Adding players salaries"
   ]
  },
  {
   "cell_type": "code",
   "execution_count": 14,
   "id": "e49a669c-a14e-45d0-96c7-9e0cc858bd49",
   "metadata": {},
   "outputs": [],
   "source": [
    "# Data from another dataset\n",
    "df_players_train = pd.read_csv('data/nhl/nhl_salaries/train.csv')\n",
    "df_players_test = pd.read_csv('data/nhl/nhl_salaries/test.csv')\n",
    "\n",
    "df_player_stats = pd.concat([df_players_train, df_players_test])"
   ]
  },
  {
   "cell_type": "code",
   "execution_count": 15,
   "id": "b3010218-14b2-468e-b00a-e3745d1ec6fb",
   "metadata": {},
   "outputs": [],
   "source": [
    "df_player_stats = df_player_stats[['First Name', 'Last Name', 'Nat', 'Salary']].rename(columns={'First Name':'firstName', 'Last Name':'lastName', 'Nat':'nationality', 'Salary':'salary'})"
   ]
  },
  {
   "cell_type": "markdown",
   "id": "092367db-1e6e-49b0-9c9c-6ac90d3a679f",
   "metadata": {},
   "source": [
    "---\n",
    "Prepare player_info for merging"
   ]
  },
  {
   "cell_type": "code",
   "execution_count": 16,
   "id": "19177200-a3b5-44c7-a45e-5582c8f32e63",
   "metadata": {},
   "outputs": [],
   "source": [
    "df_player_info.rename(columns={'player_id':'skater_id'}, inplace=True)"
   ]
  },
  {
   "cell_type": "markdown",
   "id": "facaf206-f963-4691-ac91-07dd4cd604d0",
   "metadata": {},
   "source": [
    "---\n",
    "Add additional player's identification data to the target dataset: "
   ]
  },
  {
   "cell_type": "code",
   "execution_count": 17,
   "id": "aad193b3-90d2-45f4-93eb-e769e068babd",
   "metadata": {},
   "outputs": [],
   "source": [
    "#add name and nationality of the skater\n",
    "df_data_player = df_data_player.merge(df_player_info[['skater_id', 'firstName', 'lastName', 'nationality']], how='left', on='skater_id')"
   ]
  },
  {
   "cell_type": "markdown",
   "id": "1f2dd676-0e93-40e5-9987-151e9e1f5854",
   "metadata": {},
   "source": [
    "---\n",
    "Add salary to the merged dataset:"
   ]
  },
  {
   "cell_type": "code",
   "execution_count": 18,
   "id": "1b021756-f531-4b81-adf6-7ecea2556d96",
   "metadata": {
    "tags": []
   },
   "outputs": [],
   "source": [
    "# add salary based on first name, last name, and the nationality\n",
    "df_data_player = df_data_player.merge(df_player_stats, how='left', on=['firstName', 'lastName', 'nationality'])"
   ]
  },
  {
   "cell_type": "markdown",
   "id": "6cb45f12-4ce2-483e-9779-7fd085f02efd",
   "metadata": {},
   "source": [
    "___\n",
    "Replace missing salary with median (to ignore outliers):"
   ]
  },
  {
   "cell_type": "code",
   "execution_count": 19,
   "id": "72090966-0103-4ca2-99c3-bee3ef0a8d7c",
   "metadata": {
    "tags": []
   },
   "outputs": [],
   "source": [
    "# replace missing salary\n",
    "df_data_player.salary.fillna(df_data_player.salary.median(), inplace=True)\n",
    "\n",
    "df_data_player.savePercentage.fillna(df_data_player.savePercentage.median(), inplace=True)"
   ]
  },
  {
   "cell_type": "code",
   "execution_count": 20,
   "id": "946f293a-177f-4775-8887-973986e48888",
   "metadata": {},
   "outputs": [],
   "source": [
    "df_dataset = df_data_player.copy()"
   ]
  },
  {
   "cell_type": "code",
   "execution_count": 21,
   "id": "989e327d-730c-4f01-9edb-f6d4aee937b1",
   "metadata": {
    "tags": []
   },
   "outputs": [],
   "source": [
    "# cutting outliers\n",
    "df_dataset = df_dataset[df_dataset.goals<400]\n",
    "df_dataset = df_dataset[df_dataset.shots<4000]\n",
    "df_dataset = df_dataset[df_dataset.assists<700]\n",
    "df_dataset = df_dataset[df_dataset.salary<10000000]\n"
   ]
  },
  {
   "cell_type": "markdown",
   "id": "44951317-c4c1-41c7-bdc0-540cd8dc947a",
   "metadata": {},
   "source": [
    "\n",
    "## Re-train models to set benchmark"
   ]
  },
  {
   "cell_type": "code",
   "execution_count": 22,
   "id": "56bff6e6-0ccb-4269-be8d-a46e62f78237",
   "metadata": {
    "tags": []
   },
   "outputs": [
    {
     "name": "stdout",
     "output_type": "stream",
     "text": [
      "========== Logistic Regression ==========\n",
      "Accuracy: 0.6066\n",
      "F1 Score: 0.7551\n",
      "AUC-ROC Score: 0.5301\n",
      "-----------------------------------------\n",
      "Precision: 0.6066\n",
      "Recall: 1.0000\n",
      "=========================================\n",
      "========== LightGBM Classifier ==========\n",
      "Accuracy: 0.6518\n",
      "F1 Score: 0.7484\n",
      "AUC-ROC Score: 0.6676\n",
      "-----------------------------------------\n",
      "Precision: 0.6662\n",
      "Recall: 0.8537\n",
      "=========================================\n"
     ]
    }
   ],
   "source": [
    "# starting training with player salary\n",
    "run_logistic_regression(df_dataset, c_matrix=False, r_curve=False);\n",
    "run_lightgbm_classifier(df_dataset, c_matrix=False, r_curve=False);"
   ]
  },
  {
   "cell_type": "markdown",
   "id": "5e45e6e3-e83b-47c1-b9db-1c6ad117cec9",
   "metadata": {
    "tags": []
   },
   "source": [
    "---\n",
    "### Experiments with fine tuning\n",
    "Finetuning experimets using different techniques will be applied\n",
    "\n",
    "\n",
    "---\n",
    "---"
   ]
  },
  {
   "cell_type": "markdown",
   "id": "3f446240-5746-4a50-a241-120018d7cfdf",
   "metadata": {},
   "source": [
    "#### Trying another split of train/test data:"
   ]
  },
  {
   "cell_type": "code",
   "execution_count": 23,
   "id": "d0288ba1-d67d-4bcc-9b3b-6a2f6eeec144",
   "metadata": {
    "tags": []
   },
   "outputs": [
    {
     "name": "stdout",
     "output_type": "stream",
     "text": [
      "========== Logistic Regression ==========\n",
      "Accuracy: 0.6093\n",
      "F1 Score: 0.7572\n",
      "AUC-ROC Score: 0.5312\n",
      "-----------------------------------------\n",
      "Precision: 0.6093\n",
      "Recall: 1.0000\n",
      "=========================================\n",
      "========== LightGBM Classifier ==========\n",
      "Accuracy: 0.6506\n",
      "F1 Score: 0.7482\n",
      "AUC-ROC Score: 0.6647\n",
      "-----------------------------------------\n",
      "Precision: 0.6669\n",
      "Recall: 0.8522\n",
      "=========================================\n"
     ]
    }
   ],
   "source": [
    "run_logistic_regression(df_dataset, c_matrix=False, r_curve=False, test_size=0.5);\n",
    "run_lightgbm_classifier(df_dataset, c_matrix=False, r_curve=False, test_size=0.5);"
   ]
  },
  {
   "cell_type": "code",
   "execution_count": null,
   "id": "e40ab6a2-4f56-4bc2-b767-809435d80093",
   "metadata": {},
   "outputs": [],
   "source": []
  },
  {
   "cell_type": "markdown",
   "id": "a6c1e56a-2165-4443-9f98-9a29293ba46b",
   "metadata": {},
   "source": [
    "#### Set training and test data for experiments"
   ]
  },
  {
   "cell_type": "code",
   "execution_count": 24,
   "id": "03e4f28b-7391-48a6-be14-c952d72781e3",
   "metadata": {},
   "outputs": [],
   "source": [
    "target = 'goal'\n",
    "features = df_dataset.select_dtypes(exclude='object').columns.to_list()\n",
    "features.remove(target)\n",
    "\n",
    "X_train, X_test, y_train, y_test = train_test_split(df_dataset[features], df_dataset[target], test_size=0.3, random_state=42)\n"
   ]
  },
  {
   "cell_type": "markdown",
   "id": "be65b398-1363-4b08-a8ae-8dbc979ea344",
   "metadata": {},
   "source": [
    "#### Trying to find best threshold for Logistic Regression"
   ]
  },
  {
   "cell_type": "code",
   "execution_count": 25,
   "id": "81ccfd12-863e-4749-98a3-36d4a93b7687",
   "metadata": {},
   "outputs": [
    {
     "name": "stdout",
     "output_type": "stream",
     "text": [
      "Accuracy: 0.6066\n",
      "F1 Score: 0.7551\n",
      "AUC-ROC Score: 0.5301\n",
      "-----------------------------------------\n",
      "Precision: 0.6066\n",
      "Recall: 1.0000\n",
      "=========================================\n"
     ]
    }
   ],
   "source": [
    "# create model\n",
    "model = LogisticRegression(max_iter=10000);\n",
    "\n",
    "# fit model\n",
    "model.fit(X_train,y_train)\n",
    "\n",
    "preds = model.predict_proba(X_test)[:,1]\n",
    "fpr, tpr, thresholds = roc_curve(y_test, preds)\n",
    "\n",
    "evaluate_model(model, X_test, y_test, c_matrix=False, r_curve=False);"
   ]
  },
  {
   "cell_type": "code",
   "execution_count": 31,
   "id": "ee8f52cf-b12c-41dd-9274-430ef431d8cc",
   "metadata": {},
   "outputs": [
    {
     "name": "stdout",
     "output_type": "stream",
     "text": [
      "Accuracy: 0.6066\n",
      "F1 Score: 0.7551\n",
      "AUC-ROC Score: 0.5301\n",
      "-----------------------------------------\n",
      "Precision: 0.6066\n",
      "Recall: 1.0000\n",
      "=========================================\n"
     ]
    }
   ],
   "source": [
    "evaluate_model(model, X_test, y_test, c_matrix=False, r_curve=False);"
   ]
  },
  {
   "cell_type": "code",
   "execution_count": 36,
   "id": "783df4ca-bce3-4615-b744-938cc51185cd",
   "metadata": {
    "tags": []
   },
   "outputs": [
    {
     "name": "stdout",
     "output_type": "stream",
     "text": [
      "Best threshold = 0.6063\n",
      "Accuracy: 0.5235\n",
      "F1 Score: 0.5772\n",
      "AUC-ROC Score: 0.5201\n",
      "-----------------------------------------\n",
      "Precision: 0.6251\n",
      "Recall: 0.5361\n",
      "=========================================\n"
     ]
    }
   ],
   "source": [
    "# list of g_means\n",
    "g_means = sqrt(tpr * (1-fpr))\n",
    "# index of the largest g-mean\n",
    "idx = argmax(g_means)\n",
    "\n",
    "print(f'Best threshold = {thresholds[idx]:.4f}')\n",
    "evaluate_model2(model, X_test, y_test, threshold=thresholds[idx], c_matrix=False, r_curve=False);"
   ]
  },
  {
   "cell_type": "code",
   "execution_count": 58,
   "id": "2a0b867d-56af-40b4-9e65-84caab5e9769",
   "metadata": {},
   "outputs": [
    {
     "data": {
      "text/plain": [
       "0.7567554252777298"
      ]
     },
     "execution_count": 58,
     "metadata": {},
     "output_type": "execute_result"
    }
   ],
   "source": [
    "f1_score(y_test, model.predict(X_test))"
   ]
  },
  {
   "cell_type": "code",
   "execution_count": 60,
   "id": "ad578654-e836-4635-ac6d-4aacb8a3925e",
   "metadata": {},
   "outputs": [
    {
     "data": {
      "text/plain": [
       "0.5623639413297171"
      ]
     },
     "execution_count": 60,
     "metadata": {},
     "output_type": "execute_result"
    }
   ],
   "source": [
    "f1_score(y_test, model.predict_proba(X_test)[:,1] > THRESHOLD)"
   ]
  },
  {
   "cell_type": "code",
   "execution_count": null,
   "id": "b7a34dc1-f687-4d16-862b-15c8e3e143cf",
   "metadata": {},
   "outputs": [],
   "source": []
  },
  {
   "cell_type": "markdown",
   "id": "bc8c05bd-c545-4e7f-955d-7b95b2124cb2",
   "metadata": {},
   "source": [
    "#### Ad-hoc parameters selection for LGBM"
   ]
  },
  {
   "cell_type": "code",
   "execution_count": 50,
   "id": "d97a619c-1bc7-42d8-afe2-5a648bb1ca75",
   "metadata": {
    "tags": []
   },
   "outputs": [
    {
     "name": "stdout",
     "output_type": "stream",
     "text": [
      "Starting...\n",
      "Fitting 5 folds for each of 6561 candidates, totalling 32805 fits\n",
      "{'boosting_type': 'gbdt', 'colsample_bytree': 0.8, 'learning_rate': 0.15, 'max_depth': 6, 'n_estimators': 100, 'num_leaves': 18, 'objective': 'binary', 'reg_alpha': 6, 'reg_lambda': 5, 'seed': 500, 'subsample': 0.75}\n",
      "0.6604224874917396\n",
      "Training ran in 2431.61200 seconds\n"
     ]
    },
    {
     "ename": "NameError",
     "evalue": "name 'evaluate_model' is not defined",
     "output_type": "error",
     "traceback": [
      "\u001b[0;31m---------------------------------------------------------------------------\u001b[0m",
      "\u001b[0;31mNameError\u001b[0m                                 Traceback (most recent call last)",
      "\u001b[0;32m<ipython-input-50-43a9da9029a6>\u001b[0m in \u001b[0;36m<module>\u001b[0;34m\u001b[0m\n\u001b[1;32m     27\u001b[0m \u001b[0mprint\u001b[0m\u001b[0;34m(\u001b[0m\u001b[0;34mf'Training ran in {duration:.5f} seconds'\u001b[0m\u001b[0;34m)\u001b[0m\u001b[0;34m\u001b[0m\u001b[0;34m\u001b[0m\u001b[0m\n\u001b[1;32m     28\u001b[0m \u001b[0;34m\u001b[0m\u001b[0m\n\u001b[0;32m---> 29\u001b[0;31m \u001b[0mmod\u001b[0m\u001b[0;34m,\u001b[0m \u001b[0mmetrs\u001b[0m \u001b[0;34m=\u001b[0m \u001b[0mevaluate_model\u001b[0m\u001b[0;34m(\u001b[0m\u001b[0mgrid\u001b[0m\u001b[0;34m,\u001b[0m \u001b[0mX_test\u001b[0m\u001b[0;34m,\u001b[0m \u001b[0my_test\u001b[0m\u001b[0;34m)\u001b[0m\u001b[0;34m\u001b[0m\u001b[0;34m\u001b[0m\u001b[0m\n\u001b[0m",
      "\u001b[0;31mNameError\u001b[0m: name 'evaluate_model' is not defined"
     ]
    }
   ],
   "source": [
    "grid_params = {'boosting_type': ['gbdt'], \n",
    "          'colsample_bytree': [0.75, 0.8, 0.85], \n",
    "          'learning_rate': [0.05, 0.1, 0.15], \n",
    "          'max_depth': [4, 5, 6], \n",
    "          'n_estimators': [80, 100, 120], \n",
    "          'num_leaves': [12, 18, 24], \n",
    "          'objective': ['binary'], \n",
    "          'reg_alpha': [4, 5, 6], \n",
    "          'reg_lambda': [4, 5, 6], \n",
    "          'seed': [500, 600, 700], \n",
    "          'subsample': [0.75]}\n",
    "\n",
    "model = LGBMClassifier();\n",
    "grid = GridSearchCV(model, param_grid=grid_params, verbose=1, cv=5, n_jobs=-1)\n",
    "\n",
    "# start trainig\n",
    "start = time.time()\n",
    "print(f'Starting...')\n",
    "\n",
    "grid.fit(X_train, y_train)\n",
    "\n",
    "print(grid.best_params_)\n",
    "print(grid.best_score_)\n",
    "\n",
    "#model.fit(X_train,y_train)\n",
    "duration = time.time() - start\n",
    "print(f'Training ran in {duration:.5f} seconds')    \n",
    "\n",
    "mod, metrs = evaluate_model(grid, X_test, y_test)"
   ]
  },
  {
   "cell_type": "markdown",
   "id": "f2caec63-0f28-4ce9-9d81-72638926f258",
   "metadata": {},
   "source": [
    "Compared to the benchmark, a small improvement of the metrics\n",
    "\n",
    "========== LightGBM Classifier (Benchmark) ==========\n",
    "\n",
    "Accuracy: 0.6536\n",
    "\n",
    "F1 Score: 0.7514\n",
    "\n",
    "AUC-ROC Score: 0.6691\n",
    "\n",
    "\n",
    "\n",
    "-----------------------------------------"
   ]
  },
  {
   "cell_type": "code",
   "execution_count": 52,
   "id": "e189e2f4-5671-4ccc-81db-425fe5411843",
   "metadata": {},
   "outputs": [
    {
     "name": "stdout",
     "output_type": "stream",
     "text": [
      "Accuracy: 0.6545\n",
      "F1 Score: 0.7517\n",
      "AUC-ROC Score: 0.6714\n",
      "-----------------------------------------\n",
      "Precision: 0.6681\n",
      "Recall: 0.8594\n",
      "=========================================\n"
     ]
    },
    {
     "data": {
      "image/png": "[encoded data removed]",
      "text/plain": [
       "<Figure size 432x288 with 2 Axes>"
      ]
     },
     "metadata": {},
     "output_type": "display_data"
    },
    {
     "data": {
      "image/png": "[encoded data removed]",
      "text/plain": [
       "<Figure size 360x360 with 1 Axes>"
      ]
     },
     "metadata": {},
     "output_type": "display_data"
    }
   ],
   "source": [
    "mod, metrs = evaluate_model(grid, X_test, y_test)"
   ]
  },
  {
   "cell_type": "code",
   "execution_count": null,
   "id": "4985d929-371a-4489-8f58-c88a415c66b2",
   "metadata": {},
   "outputs": [],
   "source": [
    "std_slc = StandardScaler()\n",
    "pca = decomposition.PCA()\n",
    "logistic_Reg = linear_model.LogisticRegression()\n",
    "\n",
    "pipe = Pipeline(steps=[('std_slc', std_slc),\n",
    "                       ('pca', pca),\n",
    "                       ('logistic_Reg', logistic_Reg)])\n",
    "\n",
    "n_components = list(range(1,X_train.shape[1]+1,1))\n",
    "\n",
    "C = np.logspace(-4, 4, 50)\n",
    "penalty = ['l2']\n",
    "\n",
    "parameters = dict(pca__n_components=n_components,\n",
    "                  logistic_Reg__C=C,\n",
    "                  logistic_Reg__penalty=penalty)\n",
    "\n",
    "\n",
    "clf_GS = GridSearchCV(pipe, parameters)\n",
    "clf_GS.fit(X_train, y_train)\n",
    "\n",
    "print('Best Penalty:', clf_GS.best_estimator_.get_params()['logistic_Reg__penalty'])\n",
    "print('Best C:', clf_GS.best_estimator_.get_params()['logistic_Reg__C'])\n",
    "print('Best Number Of Components:', clf_GS.best_estimator_.get_params()['pca__n_components'])\n",
    "print(); print(clf_GS.best_estimator_.get_params()['logistic_Reg'])"
   ]
  },
  {
   "cell_type": "code",
   "execution_count": null,
   "id": "821c2eb4-1449-4d62-a5fc-33ee32ec119d",
   "metadata": {},
   "outputs": [],
   "source": [
    "std_slc = StandardScaler()\n",
    "pca = decomposition.PCA(n_components=19)\n",
    "lg_model = linear_model.LogisticRegression(max_iter=10000, C=6866.488450042998, penalty='l2')\n",
    "\n",
    "pipe = Pipeline(steps=[('std_slc', std_slc),\n",
    "                       ('pca', pca),\n",
    "                       ('logistic_Reg', lg_model)])\n",
    "\n",
    "\n",
    "# fit model\n",
    "lg_model.fit(X_train,y_train)\n",
    "\n",
    "print('========== Logistic Regression ==========')\n",
    "\n",
    "evaluate_model(lg_model, X_test, y_test, conf_matrix=True, roc_curve=True)"
   ]
  },
  {
   "cell_type": "code",
   "execution_count": null,
   "id": "9e37feb6-d84f-431a-a123-c96997a23f72",
   "metadata": {},
   "outputs": [],
   "source": []
  },
  {
   "cell_type": "code",
   "execution_count": null,
   "id": "2a8d619b-5e5a-4a43-8a15-959ff2d5b71d",
   "metadata": {},
   "outputs": [],
   "source": []
  },
  {
   "cell_type": "code",
   "execution_count": null,
   "id": "e12bbb5f-a032-4bb3-a56b-cc94162beaa8",
   "metadata": {},
   "outputs": [],
   "source": [
    "#MinMaxScaler ToDo"
   ]
  },
  {
   "cell_type": "code",
   "execution_count": null,
   "id": "141eddc6-197a-43ef-ae2f-3e4e5e8f7d1d",
   "metadata": {},
   "outputs": [],
   "source": []
  },
  {
   "cell_type": "code",
   "execution_count": null,
   "id": "9d6e3199-1aaf-41bf-b8c7-1688e64f318e",
   "metadata": {},
   "outputs": [],
   "source": []
  },
  {
   "cell_type": "code",
   "execution_count": null,
   "id": "c77cc1f4-c1ec-49dc-b3a2-49c581df4332",
   "metadata": {},
   "outputs": [],
   "source": []
  }
 ],
 "metadata": {
  "kernelspec": {
   "display_name": "Python 3",
   "language": "python",
   "name": "python3"
  },
  "language_info": {
   "codemirror_mode": {
    "name": "ipython",
    "version": 3
   },
   "file_extension": ".py",
   "mimetype": "text/x-python",
   "name": "python",
   "nbconvert_exporter": "python",
   "pygments_lexer": "ipython3",
   "version": "3.8.8"
  }
 },
 "nbformat": 4,
 "nbformat_minor": 5
}
